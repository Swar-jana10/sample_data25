{
 "cells": [
  {
   "cell_type": "markdown",
   "id": "07ef65",
   "metadata": {
    "collapsed": false
   },
   "source": [
    "### flatten nested json in spark\n",
    "\n"
   ]
  },
  {
   "cell_type": "code",
   "execution_count": 2,
   "id": "8da72b",
   "metadata": {
    "collapsed": false
   },
   "outputs": [
   ],
   "source": [
    "from pyspark.sql.functions import *\n",
    "from pyspark.sql.types import *"
   ]
  },
  {
   "cell_type": "code",
   "execution_count": 4,
   "id": "f0dece",
   "metadata": {
    "collapsed": false
   },
   "outputs": [
   ],
   "source": [
    "df1=spark.read.format('json')\\\n",
    "             .option('inferschema',True)\\\n",
    "             .option('multilines',True)\\\n",
    "             .option('header',True).load('resturant_json_data.json')"
   ]
  },
  {
   "cell_type": "code",
   "execution_count": 5,
   "id": "90c0f7",
   "metadata": {
    "collapsed": false
   },
   "outputs": [
    {
     "name": "stdout",
     "output_type": "stream",
     "text": [
      "+----+-------+--------------------+-------------+-------------+-------------+------+\n",
      "|code|message|         restaurants|results_found|results_shown|results_start|status|\n",
      "+----+-------+--------------------+-------------+-------------+-------------+------+\n",
      "|null|   null|                  []|            0|            0|            1|  null|\n",
      "|null|   null|[{{{17066603}, b9...|         6835|           20|            1|  null|\n",
      "|null|   null|                  []|            0|            0|            1|  null|\n",
      "|null|   null|                  []|            0|            0|            1|  null|\n",
      "|null|   null|[{{{17093124}, b9...|         8680|           20|            1|  null|\n",
      "+----+-------+--------------------+-------------+-------------+-------------+------+\n",
      "only showing top 5 rows\n"
     ]
    },
    {
     "name": "stdout",
     "output_type": "stream",
     "text": [
      "\n"
     ]
    }
   ],
   "source": [
    "df1.show(5)"
   ]
  },
  {
   "cell_type": "code",
   "execution_count": 6,
   "id": "c3d94d",
   "metadata": {
    "collapsed": false
   },
   "outputs": [
    {
     "name": "stdout",
     "output_type": "stream",
     "text": [
      "root\n",
      " |-- code: long (nullable = true)\n",
      " |-- message: string (nullable = true)\n",
      " |-- restaurants: array (nullable = true)\n",
      " |    |-- element: struct (containsNull = true)\n",
      " |    |    |-- restaurant: struct (nullable = true)\n",
      " |    |    |    |-- R: struct (nullable = true)\n",
      " |    |    |    |    |-- res_id: long (nullable = true)\n",
      " |    |    |    |-- apikey: string (nullable = true)\n",
      " |    |    |    |-- average_cost_for_two: long (nullable = true)\n",
      " |    |    |    |-- cuisines: string (nullable = true)\n",
      " |    |    |    |-- currency: string (nullable = true)\n",
      " |    |    |    |-- deeplink: string (nullable = true)\n",
      " |    |    |    |-- establishment_types: array (nullable = true)\n",
      " |    |    |    |    |-- element: string (containsNull = true)\n",
      " |    |    |    |-- events_url: string (nullable = true)\n",
      " |    |    |    |-- featured_image: string (nullable = true)\n",
      " |    |    |    |-- has_online_delivery: long (nullable = true)\n",
      " |    |    |    |-- has_table_booking: long (nullable = true)\n",
      " |    |    |    |-- id: string (nullable = true)\n",
      " |    |    |    |-- is_delivering_now: long (nullable = true)\n",
      " |    |    |    |-- location: struct (nullable = true)\n",
      " |    |    |    |    |-- address: string (nullable = true)\n",
      " |    |    |    |    |-- city: string (nullable = true)\n",
      " |    |    |    |    |-- city_id: long (nullable = true)\n",
      " |    |    |    |    |-- country_id: long (nullable = true)\n",
      " |    |    |    |    |-- latitude: string (nullable = true)\n",
      " |    |    |    |    |-- locality: string (nullable = true)\n",
      " |    |    |    |    |-- locality_verbose: string (nullable = true)\n",
      " |    |    |    |    |-- longitude: string (nullable = true)\n",
      " |    |    |    |    |-- zipcode: string (nullable = true)\n",
      " |    |    |    |-- menu_url: string (nullable = true)\n",
      " |    |    |    |-- name: string (nullable = true)\n",
      " |    |    |    |-- offers: array (nullable = true)\n",
      " |    |    |    |    |-- element: string (containsNull = true)\n",
      " |    |    |    |-- photos_url: string (nullable = true)\n",
      " |    |    |    |-- price_range: long (nullable = true)\n",
      " |    |    |    |-- switch_to_order_menu: long (nullable = true)\n",
      " |    |    |    |-- thumb: string (nullable = true)\n",
      " |    |    |    |-- url: string (nullable = true)\n",
      " |    |    |    |-- user_rating: struct (nullable = true)\n",
      " |    |    |    |    |-- aggregate_rating: string (nullable = true)\n",
      " |    |    |    |    |-- rating_color: string (nullable = true)\n",
      " |    |    |    |    |-- rating_text: string (nullable = true)\n",
      " |    |    |    |    |-- votes: string (nullable = true)\n",
      " |-- results_found: long (nullable = true)\n",
      " |-- results_shown: long (nullable = true)\n",
      " |-- results_start: string (nullable = true)\n",
      " |-- status: string (nullable = true)\n"
     ]
    },
    {
     "name": "stdout",
     "output_type": "stream",
     "text": [
      "\n"
     ]
    }
   ],
   "source": [
    "df1.printSchema()"
   ]
  },
  {
   "cell_type": "code",
   "execution_count": 9,
   "id": "2d3f1e",
   "metadata": {
    "collapsed": false
   },
   "outputs": [
    {
     "name": "stdout",
     "output_type": "stream",
     "text": [
      "root\n",
      " |-- code: long (nullable = true)\n",
      " |-- message: string (nullable = true)\n",
      " |-- restaurants: array (nullable = true)\n",
      " |    |-- element: struct (containsNull = true)\n",
      " |    |    |-- restaurant: struct (nullable = true)\n",
      " |    |    |    |-- R: struct (nullable = true)\n",
      " |    |    |    |    |-- res_id: long (nullable = true)\n",
      " |    |    |    |-- apikey: string (nullable = true)\n",
      " |    |    |    |-- average_cost_for_two: long (nullable = true)\n",
      " |    |    |    |-- cuisines: string (nullable = true)\n",
      " |    |    |    |-- currency: string (nullable = true)\n",
      " |    |    |    |-- deeplink: string (nullable = true)\n",
      " |    |    |    |-- establishment_types: array (nullable = true)\n",
      " |    |    |    |    |-- element: string (containsNull = true)\n",
      " |    |    |    |-- events_url: string (nullable = true)\n",
      " |    |    |    |-- featured_image: string (nullable = true)\n",
      " |    |    |    |-- has_online_delivery: long (nullable = true)\n",
      " |    |    |    |-- has_table_booking: long (nullable = true)\n",
      " |    |    |    |-- id: string (nullable = true)\n",
      " |    |    |    |-- is_delivering_now: long (nullable = true)\n",
      " |    |    |    |-- location: struct (nullable = true)\n",
      " |    |    |    |    |-- address: string (nullable = true)\n",
      " |    |    |    |    |-- city: string (nullable = true)\n",
      " |    |    |    |    |-- city_id: long (nullable = true)\n",
      " |    |    |    |    |-- country_id: long (nullable = true)\n",
      " |    |    |    |    |-- latitude: string (nullable = true)\n",
      " |    |    |    |    |-- locality: string (nullable = true)\n",
      " |    |    |    |    |-- locality_verbose: string (nullable = true)\n",
      " |    |    |    |    |-- longitude: string (nullable = true)\n",
      " |    |    |    |    |-- zipcode: string (nullable = true)\n",
      " |    |    |    |-- menu_url: string (nullable = true)\n",
      " |    |    |    |-- name: string (nullable = true)\n",
      " |    |    |    |-- offers: array (nullable = true)\n",
      " |    |    |    |    |-- element: string (containsNull = true)\n",
      " |    |    |    |-- photos_url: string (nullable = true)\n",
      " |    |    |    |-- price_range: long (nullable = true)\n",
      " |    |    |    |-- switch_to_order_menu: long (nullable = true)\n",
      " |    |    |    |-- thumb: string (nullable = true)\n",
      " |    |    |    |-- url: string (nullable = true)\n",
      " |    |    |    |-- user_rating: struct (nullable = true)\n",
      " |    |    |    |    |-- aggregate_rating: string (nullable = true)\n",
      " |    |    |    |    |-- rating_color: string (nullable = true)\n",
      " |    |    |    |    |-- rating_text: string (nullable = true)\n",
      " |    |    |    |    |-- votes: string (nullable = true)\n",
      " |-- results_found: long (nullable = true)\n",
      " |-- results_shown: long (nullable = true)\n",
      " |-- results_start: string (nullable = true)\n",
      " |-- status: string (nullable = true)\n",
      " |-- new_restro: struct (nullable = true)\n",
      " |    |-- restaurant: struct (nullable = true)\n",
      " |    |    |-- R: struct (nullable = true)\n",
      " |    |    |    |-- res_id: long (nullable = true)\n",
      " |    |    |-- apikey: string (nullable = true)\n",
      " |    |    |-- average_cost_for_two: long (nullable = true)\n",
      " |    |    |-- cuisines: string (nullable = true)\n",
      " |    |    |-- currency: string (nullable = true)\n",
      " |    |    |-- deeplink: string (nullable = true)\n",
      " |    |    |-- establishment_types: array (nullable = true)\n",
      " |    |    |    |-- element: string (containsNull = true)\n",
      " |    |    |-- events_url: string (nullable = true)\n",
      " |    |    |-- featured_image: string (nullable = true)\n",
      " |    |    |-- has_online_delivery: long (nullable = true)\n",
      " |    |    |-- has_table_booking: long (nullable = true)\n",
      " |    |    |-- id: string (nullable = true)\n",
      " |    |    |-- is_delivering_now: long (nullable = true)\n",
      " |    |    |-- location: struct (nullable = true)\n",
      " |    |    |    |-- address: string (nullable = true)\n",
      " |    |    |    |-- city: string (nullable = true)\n",
      " |    |    |    |-- city_id: long (nullable = true)\n",
      " |    |    |    |-- country_id: long (nullable = true)\n",
      " |    |    |    |-- latitude: string (nullable = true)\n",
      " |    |    |    |-- locality: string (nullable = true)\n",
      " |    |    |    |-- locality_verbose: string (nullable = true)\n",
      " |    |    |    |-- longitude: string (nullable = true)\n",
      " |    |    |    |-- zipcode: string (nullable = true)\n",
      " |    |    |-- menu_url: string (nullable = true)\n",
      " |    |    |-- name: string (nullable = true)\n",
      " |    |    |-- offers: array (nullable = true)\n",
      " |    |    |    |-- element: string (containsNull = true)\n",
      " |    |    |-- photos_url: string (nullable = true)\n",
      " |    |    |-- price_range: long (nullable = true)\n",
      " |    |    |-- switch_to_order_menu: long (nullable = true)\n",
      " |    |    |-- thumb: string (nullable = true)\n",
      " |    |    |-- url: string (nullable = true)\n",
      " |    |    |-- user_rating: struct (nullable = true)\n",
      " |    |    |    |-- aggregate_rating: string (nullable = true)\n",
      " |    |    |    |-- rating_color: string (nullable = true)\n",
      " |    |    |    |-- rating_text: string (nullable = true)\n",
      " |    |    |    |-- votes: string (nullable = true)\n"
     ]
    },
    {
     "name": "stdout",
     "output_type": "stream",
     "text": [
      "\n"
     ]
    }
   ],
   "source": [
    "df1.select(\"*\",explode(\"restaurants\").alias(\"new_restro\")).printSchema()"
   ]
  },
  {
   "cell_type": "code",
   "execution_count": 10,
   "id": "844f53",
   "metadata": {
    "collapsed": false
   },
   "outputs": [
    {
     "name": "stdout",
     "output_type": "stream",
     "text": [
      "root\n",
      " |-- code: long (nullable = true)\n",
      " |-- message: string (nullable = true)\n",
      " |-- results_found: long (nullable = true)\n",
      " |-- results_shown: long (nullable = true)\n",
      " |-- results_start: string (nullable = true)\n",
      " |-- status: string (nullable = true)\n",
      " |-- new_restro: struct (nullable = true)\n",
      " |    |-- restaurant: struct (nullable = true)\n",
      " |    |    |-- R: struct (nullable = true)\n",
      " |    |    |    |-- res_id: long (nullable = true)\n",
      " |    |    |-- apikey: string (nullable = true)\n",
      " |    |    |-- average_cost_for_two: long (nullable = true)\n",
      " |    |    |-- cuisines: string (nullable = true)\n",
      " |    |    |-- currency: string (nullable = true)\n",
      " |    |    |-- deeplink: string (nullable = true)\n",
      " |    |    |-- establishment_types: array (nullable = true)\n",
      " |    |    |    |-- element: string (containsNull = true)\n",
      " |    |    |-- events_url: string (nullable = true)\n",
      " |    |    |-- featured_image: string (nullable = true)\n",
      " |    |    |-- has_online_delivery: long (nullable = true)\n",
      " |    |    |-- has_table_booking: long (nullable = true)\n",
      " |    |    |-- id: string (nullable = true)\n",
      " |    |    |-- is_delivering_now: long (nullable = true)\n",
      " |    |    |-- location: struct (nullable = true)\n",
      " |    |    |    |-- address: string (nullable = true)\n",
      " |    |    |    |-- city: string (nullable = true)\n",
      " |    |    |    |-- city_id: long (nullable = true)\n",
      " |    |    |    |-- country_id: long (nullable = true)\n",
      " |    |    |    |-- latitude: string (nullable = true)\n",
      " |    |    |    |-- locality: string (nullable = true)\n",
      " |    |    |    |-- locality_verbose: string (nullable = true)\n",
      " |    |    |    |-- longitude: string (nullable = true)\n",
      " |    |    |    |-- zipcode: string (nullable = true)\n",
      " |    |    |-- menu_url: string (nullable = true)\n",
      " |    |    |-- name: string (nullable = true)\n",
      " |    |    |-- offers: array (nullable = true)\n",
      " |    |    |    |-- element: string (containsNull = true)\n",
      " |    |    |-- photos_url: string (nullable = true)\n",
      " |    |    |-- price_range: long (nullable = true)\n",
      " |    |    |-- switch_to_order_menu: long (nullable = true)\n",
      " |    |    |-- thumb: string (nullable = true)\n",
      " |    |    |-- url: string (nullable = true)\n",
      " |    |    |-- user_rating: struct (nullable = true)\n",
      " |    |    |    |-- aggregate_rating: string (nullable = true)\n",
      " |    |    |    |-- rating_color: string (nullable = true)\n",
      " |    |    |    |-- rating_text: string (nullable = true)\n",
      " |    |    |    |-- votes: string (nullable = true)\n"
     ]
    },
    {
     "name": "stdout",
     "output_type": "stream",
     "text": [
      "\n"
     ]
    }
   ],
   "source": [
    "df1.select(\"*\",explode(\"restaurants\").alias(\"new_restro\"))\\\n",
    "   .drop(\"restaurants\").printSchema()"
   ]
  },
  {
   "cell_type": "code",
   "execution_count": 11,
   "id": "f29551",
   "metadata": {
    "collapsed": false
   },
   "outputs": [
    {
     "name": "stdout",
     "output_type": "stream",
     "text": [
      "+--------+\n",
      "|  res_id|\n",
      "+--------+\n",
      "|17066603|\n",
      "|17059541|\n",
      "|17064405|\n",
      "|17057797|\n",
      "|17057591|\n",
      "|17064266|\n",
      "|17060516|\n",
      "|17060320|\n",
      "|17059060|\n",
      "|17059012|\n",
      "|17060869|\n",
      "|17061231|\n",
      "|17058534|\n",
      "|17057925|\n",
      "|17064031|\n",
      "|17061237|\n",
      "|17061253|\n",
      "|17061296|\n",
      "|17061205|\n",
      "|17057397|\n",
      "+--------+\n",
      "only showing top 20 rows\n"
     ]
    },
    {
     "name": "stdout",
     "output_type": "stream",
     "text": [
      "\n"
     ]
    }
   ],
   "source": [
    "df1.select(\"*\",explode(\"restaurants\").alias(\"new_restro\"))\\\n",
    "   .drop(\"restaurants\")\\\n",
    "   .select(\"new_restro.restaurant.R.res_id\").show()"
   ]
  },
  {
   "cell_type": "code",
   "execution_count": 19,
   "id": "862710",
   "metadata": {
    "collapsed": false
   },
   "outputs": [
    {
     "name": "stdout",
     "output_type": "stream",
     "text": [
      "+----+-------+-------------+-------------+-------------+------+--------------------+--------+\n",
      "|code|message|results_found|results_shown|results_start|status|          new_restro|  res_id|\n",
      "+----+-------+-------------+-------------+-------------+------+--------------------+--------+\n",
      "|null|   null|         6835|           20|            1|  null|{{{17066603}, b90...|17066603|\n",
      "|null|   null|         6835|           20|            1|  null|{{{17059541}, b90...|17059541|\n",
      "|null|   null|         6835|           20|            1|  null|{{{17064405}, b90...|17064405|\n",
      "|null|   null|         6835|           20|            1|  null|{{{17057797}, b90...|17057797|\n",
      "|null|   null|         6835|           20|            1|  null|{{{17057591}, b90...|17057591|\n",
      "+----+-------+-------------+-------------+-------------+------+--------------------+--------+\n",
      "only showing top 5 rows\n"
     ]
    },
    {
     "name": "stdout",
     "output_type": "stream",
     "text": [
      "\n"
     ]
    }
   ],
   "source": [
    "df1.select(\"*\",explode(\"restaurants\").alias(\"new_restro\"))\\\n",
    "   .drop(\"restaurants\")\\\n",
    "   .select(\"*\",\"new_restro.restaurant.R.res_id\").show(5)"
   ]
  },
  {
   "cell_type": "code",
   "execution_count": 24,
   "id": "3ae844",
   "metadata": {
    "collapsed": false
   },
   "outputs": [
    {
     "name": "stdout",
     "output_type": "stream",
     "text": [
      "root\n",
      " |-- code: long (nullable = true)\n",
      " |-- message: string (nullable = true)\n",
      " |-- results_found: long (nullable = true)\n",
      " |-- results_shown: long (nullable = true)\n",
      " |-- results_start: string (nullable = true)\n",
      " |-- status: string (nullable = true)\n",
      " |-- res_id: long (nullable = true)\n",
      " |-- establishment_types_new: string (nullable = true)\n",
      " |-- name: string (nullable = true)\n"
     ]
    },
    {
     "name": "stdout",
     "output_type": "stream",
     "text": [
      "\n"
     ]
    },
    {
     "ename": "AttributeError",
     "evalue": "(\"'NoneType' object has no attribute 'show'\",)",
     "output_type": "error",
     "traceback": [
      "Traceback (most recent call last):",
      "  File \"python cell\", line 5, in <module>",
      "AttributeError: 'NoneType' object has no attribute 'show'"
     ]
    }
   ],
   "source": [
    "df1.select(\"*\",explode(\"restaurants\").alias(\"new_restro\"))\\\n",
    "   .drop(\"restaurants\")\\\n",
    "   .select(\"*\",\"new_restro.restaurant.R.res_id\",\n",
    "            explode(\"new_restro.restaurant.establishment_types\").alias(\"establishment_types_new\"),\n",
    "          \"new_restro.restaurant.name\").drop(\"new_restro\").printSchema()"
   ]
  },
  {
   "cell_type": "code",
   "execution_count": 25,
   "id": "367dce",
   "metadata": {
    "collapsed": false
   },
   "outputs": [
    {
     "name": "stdout",
     "output_type": "stream",
     "text": [
      "+----+-------+-------------+-------------+-------------+------+------+-----------------------+----+\n",
      "|code|message|results_found|results_shown|results_start|status|res_id|establishment_types_new|name|\n",
      "+----+-------+-------------+-------------+-------------+------+------+-----------------------+----+\n",
      "+----+-------+-------------+-------------+-------------+------+------+-----------------------+----+\n"
     ]
    },
    {
     "name": "stdout",
     "output_type": "stream",
     "text": [
      "\n"
     ]
    }
   ],
   "source": [
    "df1.select(\"*\",explode(\"restaurants\").alias(\"new_restro\"))\\\n",
    "   .drop(\"restaurants\")\\\n",
    "   .select(\"*\",\"new_restro.restaurant.R.res_id\",\n",
    "            explode(\"new_restro.restaurant.establishment_types\").alias(\"establishment_types_new\"),\n",
    "          \"new_restro.restaurant.name\").drop(\"new_restro\").show()"
   ]
  },
  {
   "cell_type": "code",
   "execution_count": 27,
   "id": "4499f2",
   "metadata": {
    "collapsed": false
   },
   "outputs": [
    {
     "name": "stdout",
     "output_type": "stream",
     "text": [
      "+----+-------+-------------+-------------+-------------+------+--------+-----------------------+------------------------------------+\n",
      "|code|message|results_found|results_shown|results_start|status|res_id  |establishment_types_new|name                                |\n",
      "+----+-------+-------------+-------------+-------------+------+--------+-----------------------+------------------------------------+\n",
      "|null|null   |6835         |20           |1            |null  |17066603|null                   |The Coop                            |\n",
      "|null|null   |6835         |20           |1            |null  |17059541|null                   |Maggiano's Little Italy             |\n",
      "|null|null   |6835         |20           |1            |null  |17064405|null                   |Tako Cheena by Pom Pom              |\n",
      "|null|null   |6835         |20           |1            |null  |17057797|null                   |Bosphorous Turkish Cuisine          |\n",
      "|null|null   |6835         |20           |1            |null  |17057591|null                   |Bahama Breeze Island Grille         |\n",
      "|null|null   |6835         |20           |1            |null  |17064266|null                   |Hawkers Asian Street Fare           |\n",
      "|null|null   |6835         |20           |1            |null  |17060516|null                   |Seasons 52 Fresh Grill              |\n",
      "|null|null   |6835         |20           |1            |null  |17060320|null                   |Raglan Road Irish Pub and Restaurant|\n",
      "|null|null   |6835         |20           |1            |null  |17059060|null                   |Hillstone                           |\n",
      "|null|null   |6835         |20           |1            |null  |17059012|null                   |Hollerbach's Willow Tree Café       |\n",
      "|null|null   |6835         |20           |1            |null  |17060869|null                   |Texas de Brazil                     |\n",
      "|null|null   |6835         |20           |1            |null  |17061231|null                   |The Ravenous Pig                    |\n",
      "|null|null   |6835         |20           |1            |null  |17058534|null                   |Earl of Sandwich                    |\n",
      "|null|null   |6835         |20           |1            |null  |17057925|null                   |Café Tu Tu Tango                    |\n",
      "|null|null   |6835         |20           |1            |null  |17064031|null                   |Tibby's New Orleans Kitchen         |\n",
      "|null|null   |6835         |20           |1            |null  |17061237|null                   |Cevíche Tapas Bar & Restaurant      |\n",
      "|null|null   |6835         |20           |1            |null  |17061253|null                   |Ethos Vegan Kitchen                 |\n",
      "|null|null   |6835         |20           |1            |null  |17061296|null                   |Pom Pom's Teahouse and Sandwicheria |\n",
      "|null|null   |6835         |20           |1            |null  |17061205|null                   |Yellow Dog Eats                     |\n",
      "|null|null   |6835         |20           |1            |null  |17057397|null                   |'Ohana                              |\n",
      "+----+-------+-------------+-------------+-------------+------+--------+-----------------------+------------------------------------+\n",
      "only showing top 20 rows\n"
     ]
    },
    {
     "name": "stdout",
     "output_type": "stream",
     "text": [
      "\n"
     ]
    }
   ],
   "source": [
    "df1.select(\"*\",explode(\"restaurants\").alias(\"new_restro\"))\\\n",
    "   .drop(\"restaurants\")\\\n",
    "   .select(\"*\",\"new_restro.restaurant.R.res_id\",\n",
    "            explode_outer(\"new_restro.restaurant.establishment_types\").alias(\"establishment_types_new\"),\n",
    "          \"new_restro.restaurant.name\").drop(\"new_restro\").show(truncate=False)"
   ]
  }
 ],
 "metadata": {
  "kernelspec": {
   "argv": [
    "/usr/bin/python3",
    "-m",
    "pyspark_kernel",
    "-f",
    "{connection_file}"
   ],
   "display_name": "PySpark (python)",
   "env": {
    "SPARK_HOME": "/ext/apache/spark/current",
    "SPARK_LOCAL_IP": "localhost",
    "_JAVA_OPTIONS": "-Xms64m"
   },
   "language": "python",
   "name": "pyspark_kernel",
   "resource_dir": "/ext/jupyter/kernels/pyspark_kernel"
  },
  "language_info": {
   "file_extension": ".py",
   "help_links": [
    {
     "text": "MetaKernel Magics",
     "url": "https://metakernel.readthedocs.io/en/latest/source/README.html"
    }
   ],
   "mimetype": "text/x-python",
   "name": "python"
  }
 },
 "nbformat": 4,
 "nbformat_minor": 4
}